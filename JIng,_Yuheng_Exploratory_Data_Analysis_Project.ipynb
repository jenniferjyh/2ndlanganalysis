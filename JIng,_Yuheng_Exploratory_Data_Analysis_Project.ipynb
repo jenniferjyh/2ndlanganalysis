{
  "nbformat": 4,
  "nbformat_minor": 0,
  "metadata": {
    "colab": {
      "name": "JIng, Yuheng - Exploratory Data Analysis Project.ipynb",
      "provenance": [],
      "collapsed_sections": []
    },
    "kernelspec": {
      "name": "python3",
      "display_name": "Python 3"
    }
  },
  "cells": [
    {
      "cell_type": "markdown",
      "metadata": {
        "id": "QEeY8reP-8Q_"
      },
      "source": [
        "In this assignment you can identify a dataset of your interest and perform exploratory data analysis to better understand the data, investigate initial questions about it and develop preliminary insights and hypotheses. Your final submission will be a blog post consisting of a series of captioned visualizations that convey the key insights gained over the course of your analysis. You need to post the blog to medium or your github website.\n",
        "\n",
        "Documenting the data analysis process you went through is the main pedagogical goal of the assignment and more important than the design of the final visualization.\n",
        "\n",
        "We will go over the details of the project during class hours next week."
      ]
    },
    {
      "cell_type": "markdown",
      "metadata": {
        "id": "40FjLaUS_Rui"
      },
      "source": [
        "##**Part 1: Select and Prepare the Data**"
      ]
    },
    {
      "cell_type": "markdown",
      "metadata": {
        "id": "Mu120a3d_SnY"
      },
      "source": [
        "You should start by picking a topic area of interest to you and finding a dataset that can provide insights into that topic. We have provided some datasets below that you can start from. But we encourage you to investigate a different topic and dataset. If you self-select a dataset and are concerned about its appropriateness for the assignment, you can check with the TAs regarding the same.\n",
        "\n",
        "**Note:** The data collection and preparation (also known as data wrangling) can be a very tedious and time-consuming process. Be sure you have sufficient time to conduct exploratory analysis, after preparing the data.\n",
        "\n",
        "After selecting a topic and dataset – but prior to analysis – you should write down an initial set of at least three questions you’d like to investigate."
      ]
    },
    {
      "cell_type": "code",
      "metadata": {
        "id": "UHoG8LLU18l4",
        "colab": {
          "base_uri": "https://localhost:8080/",
          "height": 700
        },
        "outputId": "492b7d4b-989b-4907-e291-99489b64028f"
      },
      "source": [
        "#Yuheng Jing\n",
        "#Exploratoy Data Analysis\n",
        "#Questions\n",
        "#Which group of people consist of the largest 2nd language in U.S.?\n",
        "#In the same age group, which group of 2nd language speakers speak better english?\n",
        "#In the same age group, which group of 2nd language speakers speak the worst english?\n",
        "#Which age group speaks the worst and best english? \n",
        "import numpy as np\n",
        "import pandas as pd\n",
        "import matplotlib.pyplot as plt\n",
        "import matplotlib.font_manager\n",
        "%matplotlib inline\n",
        "fr = pd.read_csv('2ndlanspeaker.csv',index_col=[0,1], skipinitialspace=True)\n",
        "frame = pd.DataFrame(fr, columns={'TotalSpeak','PercentSpeak','EngFluent','EngFluent%','EngNotFluent','EngNotFluent%'})\n",
        "frame.index.names = ['Language', 'AgeGroup']\n",
        "\n",
        "#plot styling\n",
        "plt.rcParams['font.sans-serif'] = 'DM Sans'\n",
        "plt.rcParams['font.family'] = 'sans-serif'\n",
        "plt.rcParams['text.color'] = '#E86D52'\n",
        "plt.rcParams['axes.labelcolor']= '#6873B6'\n",
        "plt.rcParams['xtick.color'] = '#000000'\n",
        "plt.rcParams['ytick.color'] = '#000000'\n",
        "plt.rcParams['font.size']=12\n",
        "color_palette_list = ['#FF3C38','#6699CC', '#FFF275', '#FF8C42']\n",
        "frame\n"
      ],
      "execution_count": 155,
      "outputs": [
        {
          "output_type": "execute_result",
          "data": {
            "text/html": [
              "<div>\n",
              "<style scoped>\n",
              "    .dataframe tbody tr th:only-of-type {\n",
              "        vertical-align: middle;\n",
              "    }\n",
              "\n",
              "    .dataframe tbody tr th {\n",
              "        vertical-align: top;\n",
              "    }\n",
              "\n",
              "    .dataframe thead th {\n",
              "        text-align: right;\n",
              "    }\n",
              "</style>\n",
              "<table border=\"1\" class=\"dataframe\">\n",
              "  <thead>\n",
              "    <tr style=\"text-align: right;\">\n",
              "      <th></th>\n",
              "      <th></th>\n",
              "      <th>EngNotFluent</th>\n",
              "      <th>EngFluent%</th>\n",
              "      <th>EngFluent</th>\n",
              "      <th>EngNotFluent%</th>\n",
              "      <th>TotalSpeak</th>\n",
              "      <th>PercentSpeak</th>\n",
              "    </tr>\n",
              "    <tr>\n",
              "      <th>Language</th>\n",
              "      <th>AgeGroup</th>\n",
              "      <th></th>\n",
              "      <th></th>\n",
              "      <th></th>\n",
              "      <th></th>\n",
              "      <th></th>\n",
              "      <th></th>\n",
              "    </tr>\n",
              "  </thead>\n",
              "  <tbody>\n",
              "    <tr>\n",
              "      <th rowspan=\"4\" valign=\"top\">Spanish</th>\n",
              "      <th>Total</th>\n",
              "      <td>16131307.0</td>\n",
              "      <td>0.614</td>\n",
              "      <td>25626084.0</td>\n",
              "      <td>0.386</td>\n",
              "      <td>41757391.0</td>\n",
              "      <td>13.5</td>\n",
              "    </tr>\n",
              "    <tr>\n",
              "      <th>5to17</th>\n",
              "      <td>1544798.0</td>\n",
              "      <td>0.820</td>\n",
              "      <td>7039830.0</td>\n",
              "      <td>0.180</td>\n",
              "      <td>8584628.0</td>\n",
              "      <td>2.80%</td>\n",
              "    </tr>\n",
              "    <tr>\n",
              "      <th>18to64</th>\n",
              "      <td>12196801.0</td>\n",
              "      <td>0.581</td>\n",
              "      <td>16930353.0</td>\n",
              "      <td>0.419</td>\n",
              "      <td>29127154.0</td>\n",
              "      <td>9.40%</td>\n",
              "    </tr>\n",
              "    <tr>\n",
              "      <th>65+</th>\n",
              "      <td>2389708.0</td>\n",
              "      <td>0.409</td>\n",
              "      <td>1655901.0</td>\n",
              "      <td>0.519</td>\n",
              "      <td>4045609.0</td>\n",
              "      <td>1.30%</td>\n",
              "    </tr>\n",
              "    <tr>\n",
              "      <th rowspan=\"4\" valign=\"top\">Indo-European</th>\n",
              "      <th>Total</th>\n",
              "      <td>3421414.0</td>\n",
              "      <td>0.702</td>\n",
              "      <td>8044217.0</td>\n",
              "      <td>0.298</td>\n",
              "      <td>11465631.0</td>\n",
              "      <td>3.7</td>\n",
              "    </tr>\n",
              "    <tr>\n",
              "      <th>5to17</th>\n",
              "      <td>302092.0</td>\n",
              "      <td>0.809</td>\n",
              "      <td>1280665.0</td>\n",
              "      <td>0.191</td>\n",
              "      <td>1582757.0</td>\n",
              "      <td>0.50%</td>\n",
              "    </tr>\n",
              "    <tr>\n",
              "      <th>18to64</th>\n",
              "      <td>2182909.0</td>\n",
              "      <td>0.722</td>\n",
              "      <td>5655678.0</td>\n",
              "      <td>0.278</td>\n",
              "      <td>7838587.0</td>\n",
              "      <td>2.50%</td>\n",
              "    </tr>\n",
              "    <tr>\n",
              "      <th>65+</th>\n",
              "      <td>936413.0</td>\n",
              "      <td>0.542</td>\n",
              "      <td>1107874.0</td>\n",
              "      <td>0.458</td>\n",
              "      <td>2044287.0</td>\n",
              "      <td>0.70%</td>\n",
              "    </tr>\n",
              "    <tr>\n",
              "      <th rowspan=\"4\" valign=\"top\">Asian and Pacific Island</th>\n",
              "      <th>Total</th>\n",
              "      <td>4843095.0</td>\n",
              "      <td>0.559</td>\n",
              "      <td>6130222.0</td>\n",
              "      <td>0.441</td>\n",
              "      <td>10973317.0</td>\n",
              "      <td>3.6</td>\n",
              "    </tr>\n",
              "    <tr>\n",
              "      <th>5to17</th>\n",
              "      <td>296035.0</td>\n",
              "      <td>0.766</td>\n",
              "      <td>971605.0</td>\n",
              "      <td>0.234</td>\n",
              "      <td>1267640.0</td>\n",
              "      <td>0.40%</td>\n",
              "    </tr>\n",
              "    <tr>\n",
              "      <th>18to64</th>\n",
              "      <td>3322647.0</td>\n",
              "      <td>0.579</td>\n",
              "      <td>4574652.0</td>\n",
              "      <td>0.421</td>\n",
              "      <td>7897299.0</td>\n",
              "      <td>2.60%</td>\n",
              "    </tr>\n",
              "    <tr>\n",
              "      <th>65+</th>\n",
              "      <td>1224413.0</td>\n",
              "      <td>0.323</td>\n",
              "      <td>583965.0</td>\n",
              "      <td>0.677</td>\n",
              "      <td>1808378.0</td>\n",
              "      <td>0.60%</td>\n",
              "    </tr>\n",
              "    <tr>\n",
              "      <th rowspan=\"4\" valign=\"top\">Other</th>\n",
              "      <th>Total</th>\n",
              "      <td>1068351.0</td>\n",
              "      <td>0.704</td>\n",
              "      <td>2537655.0</td>\n",
              "      <td>0.296</td>\n",
              "      <td>3606006.0</td>\n",
              "      <td>1.2</td>\n",
              "    </tr>\n",
              "    <tr>\n",
              "      <th>5to17</th>\n",
              "      <td>116901.0</td>\n",
              "      <td>0.820</td>\n",
              "      <td>532041.0</td>\n",
              "      <td>0.180</td>\n",
              "      <td>648942.0</td>\n",
              "      <td>0.20%</td>\n",
              "    </tr>\n",
              "    <tr>\n",
              "      <th>18to64</th>\n",
              "      <td>793132.0</td>\n",
              "      <td>0.694</td>\n",
              "      <td>1801676.0</td>\n",
              "      <td>0.306</td>\n",
              "      <td>2594808.0</td>\n",
              "      <td>0.80%</td>\n",
              "    </tr>\n",
              "    <tr>\n",
              "      <th>65+</th>\n",
              "      <td>158318.0</td>\n",
              "      <td>0.563</td>\n",
              "      <td>203938.0</td>\n",
              "      <td>0.437</td>\n",
              "      <td>362256.0</td>\n",
              "      <td>0.10%</td>\n",
              "    </tr>\n",
              "    <tr>\n",
              "      <th rowspan=\"4\" valign=\"top\">NaN</th>\n",
              "      <th>NaN</th>\n",
              "      <td>NaN</td>\n",
              "      <td>NaN</td>\n",
              "      <td>NaN</td>\n",
              "      <td>NaN</td>\n",
              "      <td>NaN</td>\n",
              "      <td>NaN</td>\n",
              "    </tr>\n",
              "    <tr>\n",
              "      <th>NaN</th>\n",
              "      <td>NaN</td>\n",
              "      <td>NaN</td>\n",
              "      <td>NaN</td>\n",
              "      <td>NaN</td>\n",
              "      <td>NaN</td>\n",
              "      <td>NaN</td>\n",
              "    </tr>\n",
              "    <tr>\n",
              "      <th>NaN</th>\n",
              "      <td>NaN</td>\n",
              "      <td>NaN</td>\n",
              "      <td>NaN</td>\n",
              "      <td>NaN</td>\n",
              "      <td>NaN</td>\n",
              "      <td>NaN</td>\n",
              "    </tr>\n",
              "    <tr>\n",
              "      <th>NaN</th>\n",
              "      <td>NaN</td>\n",
              "      <td>NaN</td>\n",
              "      <td>NaN</td>\n",
              "      <td>NaN</td>\n",
              "      <td>NaN</td>\n",
              "      <td>NaN</td>\n",
              "    </tr>\n",
              "  </tbody>\n",
              "</table>\n",
              "</div>"
            ],
            "text/plain": [
              "                                   EngNotFluent  ...  PercentSpeak\n",
              "Language                 AgeGroup                ...              \n",
              "Spanish                  Total       16131307.0  ...          13.5\n",
              "                         5to17        1544798.0  ...         2.80%\n",
              "                         18to64      12196801.0  ...         9.40%\n",
              "                         65+          2389708.0  ...         1.30%\n",
              "Indo-European            Total        3421414.0  ...           3.7\n",
              "                         5to17         302092.0  ...         0.50%\n",
              "                         18to64       2182909.0  ...         2.50%\n",
              "                         65+           936413.0  ...         0.70%\n",
              "Asian and Pacific Island Total        4843095.0  ...           3.6\n",
              "                         5to17         296035.0  ...         0.40%\n",
              "                         18to64       3322647.0  ...         2.60%\n",
              "                         65+          1224413.0  ...         0.60%\n",
              "Other                    Total        1068351.0  ...           1.2\n",
              "                         5to17         116901.0  ...         0.20%\n",
              "                         18to64        793132.0  ...         0.80%\n",
              "                         65+           158318.0  ...         0.10%\n",
              "NaN                      NaN                NaN  ...           NaN\n",
              "                         NaN                NaN  ...           NaN\n",
              "                         NaN                NaN  ...           NaN\n",
              "                         NaN                NaN  ...           NaN\n",
              "\n",
              "[20 rows x 6 columns]"
            ]
          },
          "metadata": {
            "tags": []
          },
          "execution_count": 155
        }
      ]
    },
    {
      "cell_type": "code",
      "metadata": {
        "colab": {
          "base_uri": "https://localhost:8080/",
          "height": 282
        },
        "id": "pOQgpJccgrxR",
        "outputId": "c8341816-5ba1-423a-c60f-f8b2ed36ffdf"
      },
      "source": [
        "#Which group of people consist of the largest 2nd language in U.S.?\n",
        "idx = pd.IndexSlice\n",
        "fig, ax = plt.subplots()\n",
        "percentages = frame.loc[idx[:, 'Total'], idx['PercentSpeak']]\n",
        "labels = ['Spanish', 'Indo-European','Asian and Pacific Island','Other']\n",
        "ax.pie(percentages, labels=labels)\n",
        "ax.set_title(\"Percentage of 2nd language speakers in the U.S.\")\n",
        "ax.legend(frameon=False, bbox_to_anchor=(1.5,0.8))"
      ],
      "execution_count": 159,
      "outputs": [
        {
          "output_type": "execute_result",
          "data": {
            "text/plain": [
              "<matplotlib.legend.Legend at 0x7f142930e390>"
            ]
          },
          "metadata": {
            "tags": []
          },
          "execution_count": 159
        },
        {
          "output_type": "display_data",
          "data": {
            "image/png": "[encoded data removed]",
            "text/plain": [
              "<Figure size 432x288 with 1 Axes>"
            ]
          },
          "metadata": {
            "tags": []
          }
        }
      ]
    },
    {
      "cell_type": "code",
      "metadata": {
        "colab": {
          "base_uri": "https://localhost:8080/",
          "height": 343
        },
        "id": "ULgavgjVZ9g2",
        "outputId": "06ca3418-d0a3-4fd3-e60f-21f0ade97b5d"
      },
      "source": [
        "\n",
        "#In the same age group, which group of 2nd language speakers speak better english?\n",
        "myFig, myAxes = plt.subplots(1,3,sharey=True,figsize=(36,5))\n",
        "\n",
        "engfluent1 = frame.loc[idx[:, '5to17'], idx['EngFluent%']]\n",
        "engfluent2 = frame.loc[idx[:, '18to64'], idx['EngFluent%']]\n",
        "engfluent3 = frame.loc[idx[:, '65+'], idx['EngFluent%']]\n",
        "lan = ['Spanish','Indo-European', 'Asian and Pacific Island','Other']\n",
        "print(engfluent1)\n",
        "print(lan)\n",
        "plt.ylabel('Fluent Percent')\n",
        "plt.yticks([np.arange(0, 1, step=0.2)])\n",
        "#1st plot\n",
        "plt.subplot(1,3,1, title=\"High English fluency by 2nd language for Age 5-17\")\n",
        "plt.ylabel('Fluent Percent')\n",
        "plt.xlabel('Age 5 to 17')\n",
        "plt.bar(lan, engfluent1, color = color_palette_list)\n",
        "#2nd plot\n",
        "plt.subplot(1,3,2, title=\"High English fluency by 2nd language for Age 18-64\")\n",
        "plt.ylabel('Fluent Percent')\n",
        "plt.xlabel('Age 18 to 64')\n",
        "plt.bar(lan, engfluent2, color = color_palette_list)\n",
        "#3rd plot\n",
        "plt.subplot(1,3,3, title=\"High English fluency by 2nd language for Age 65+\")\n",
        "plt.ylabel('Fluent Percent')\n",
        "plt.xlabel('Age 65 and up')\n",
        "plt.bar(lan, engfluent3, color = color_palette_list)\n",
        "\n",
        "plt.show()"
      ],
      "execution_count": 157,
      "outputs": [
        {
          "output_type": "stream",
          "text": [
            "Language                  AgeGroup\n",
            "Spanish                   5to17       0.820\n",
            "Indo-European             5to17       0.809\n",
            "Asian and Pacific Island  5to17       0.766\n",
            "Other                     5to17       0.820\n",
            "Name: EngFluent%, dtype: float64\n",
            "['Spanish', 'Indo-European', 'Asian and Pacific Island', 'Other']\n"
          ],
          "name": "stdout"
        },
        {
          "output_type": "display_data",
          "data": {
            "image/png": "[encoded data removed]",
            "text/plain": [
              "<Figure size 2592x360 with 3 Axes>"
            ]
          },
          "metadata": {
            "tags": [],
            "needs_background": "light"
          }
        }
      ]
    },
    {
      "cell_type": "code",
      "metadata": {
        "colab": {
          "base_uri": "https://localhost:8080/",
          "height": 342
        },
        "id": "-4H40aqa_B7Y",
        "outputId": "47f9f3f0-513a-4e68-af8a-067e24b23902"
      },
      "source": [
        "#In the same age group, which group of 2nd language speakers speak the worst english?\n",
        "myFig1, myAxes1 = plt.subplots(1,3,sharey=True,figsize=(36,5))\n",
        "idx = pd.IndexSlice\n",
        "engnotfluent1 = frame.loc[idx[:, '5to17'], idx['EngNotFluent%']]\n",
        "engnotfluent2 = frame.loc[idx[:, '18to64'], idx['EngNotFluent%']]\n",
        "engnotfluent3 = frame.loc[idx[:, '65+'], idx['EngNotFluent%']]\n",
        "print(engnotfluent1)\n",
        "print(lan)\n",
        "plt.ylabel('Fluent Percent')\n",
        "plt.yticks([np.arange(0, 1, step=0.2)])\n",
        "#1st plot\n",
        "plt.subplot(1,3,1, title=\"Low English fluency by 2nd language for Age 5-17\")\n",
        "plt.ylabel('Fluent Percent')\n",
        "plt.xlabel('Age 5 to 17')\n",
        "plt.bar(lan, engnotfluent1, color = color_palette_list)\n",
        "#2nd plot\n",
        "plt.subplot(1,3,2, title=\"Low English fluency by 2nd language for Age 18-64\")\n",
        "plt.ylabel('Fluent Percent')\n",
        "plt.xlabel('Age 18 to 64')\n",
        "plt.bar(lan, engnotfluent2, color = color_palette_list)\n",
        "#3rd plot\n",
        "plt.subplot(1,3,3, title=\"Low English fluency by 2nd language for Age 65+\")\n",
        "plt.ylabel('Fluent Percent')\n",
        "plt.xlabel('Age 65 and up')\n",
        "plt.bar(lan, engnotfluent3, color = color_palette_list)\n",
        "\n",
        "plt.show()"
      ],
      "execution_count": 158,
      "outputs": [
        {
          "output_type": "stream",
          "text": [
            "Language                  AgeGroup\n",
            "Spanish                   5to17       0.180\n",
            "Indo-European             5to17       0.191\n",
            "Asian and Pacific Island  5to17       0.234\n",
            "Other                     5to17       0.180\n",
            "Name: EngNotFluent%, dtype: float64\n",
            "['Spanish', 'Indo-European', 'Asian and Pacific Island', 'Other']\n"
          ],
          "name": "stdout"
        },
        {
          "output_type": "display_data",
          "data": {
            "image/png": "[encoded data removed]",
            "text/plain": [
              "<Figure size 2592x360 with 3 Axes>"
            ]
          },
          "metadata": {
            "tags": [],
            "needs_background": "light"
          }
        }
      ]
    },
    {
      "cell_type": "code",
      "metadata": {
        "colab": {
          "base_uri": "https://localhost:8080/",
          "height": 758
        },
        "id": "xFo9z2oGEsEv",
        "outputId": "6f9427c6-7403-4416-ef67-96b393123a26"
      },
      "source": [
        "#Which age group speaks the worst and best english? \n",
        "# myFig2, myAxes2 = plt.subplots(figsize=(10,5))\n",
        "ageframeF = frame.groupby('AgeGroup')[[\"EngFluent\", \"EngNotFluent\"]].sum()\n",
        "print(type(ageframeF))\n",
        "ef=ageframeF['EngFluent']\n",
        "enf=ageframeF['EngNotFluent']\n",
        "ages=ageframeF.index\n",
        "print(ef)\n",
        "print(ages)\n",
        "width=0.25\n",
        "plt.ylabel('# of people')\n",
        "plt.xlabel('Age Groups')\n",
        "ageframeF.plot(kind=\"bar\")\n",
        "plt.title(\"English Fluency by Age Groups\")\n",
        "plt.bar(ages, ef, width)\n",
        "plt.bar(ages, enf, width)\n",
        "plt.xticks()\n",
        "plt.legend(loc='best')"
      ],
      "execution_count": 138,
      "outputs": [
        {
          "output_type": "stream",
          "text": [
            "<class 'pandas.core.frame.DataFrame'>\n",
            "AgeGroup\n",
            "18to64    28962359.0\n",
            "5to17      9824141.0\n",
            "65+        3551678.0\n",
            "Total     42338178.0\n",
            "Name: EngFluent, dtype: float64\n",
            "Index(['18to64', '5to17', '65+', 'Total'], dtype='object', name='AgeGroup')\n"
          ],
          "name": "stdout"
        },
        {
          "output_type": "execute_result",
          "data": {
            "text/plain": [
              "<matplotlib.legend.Legend at 0x7f142a2ace50>"
            ]
          },
          "metadata": {
            "tags": []
          },
          "execution_count": 138
        },
        {
          "output_type": "display_data",
          "data": {
            "image/png": "[encoded data removed]",
            "text/plain": [
              "<Figure size 432x288 with 1 Axes>"
            ]
          },
          "metadata": {
            "tags": [],
            "needs_background": "light"
          }
        },
        {
          "output_type": "display_data",
          "data": {
            "image/png": "[encoded data removed]",
            "text/plain": [
              "<Figure size 432x288 with 1 Axes>"
            ]
          },
          "metadata": {
            "tags": [],
            "needs_background": "light"
          }
        }
      ]
    },
    {
      "cell_type": "code",
      "metadata": {
        "id": "d0dOBfd1c02D"
      },
      "source": [
        ""
      ],
      "execution_count": 138,
      "outputs": []
    },
    {
      "cell_type": "markdown",
      "metadata": {
        "id": "_97-jxLqB9NI"
      },
      "source": [
        "## **Part 2: Exploratory Analysis**"
      ]
    },
    {
      "cell_type": "markdown",
      "metadata": {
        "id": "rCbLzkhhCB14"
      },
      "source": [
        "Once you have picked the dataset and performed the initial data wrangling, you will perform exploratory analysis to investigate your data. For this assignment we would like you to use Pandas, NumPy and matplotlib to help you with the analysis. \n",
        "\n",
        "**Phase 1:** You should start the exploration by first examining the shape and structure of your data. What dimensions/variables does it contain and how are the data values distributed? Are there any notable data quality issues? Find out if there are missing values in the data and think of how you can handle them. Are there any surprising relationships between the dimensions/variables? Make sure to perform sanity checks for patterns you expect to see! Note that it may be the case that after doing a bit of exploration in phase 1 you find that your data is not as interesting as you first thought. In such cases you might consider returning to Part 1 and identifying a different dataset to work with. Such iteration on choosing the dataset is common, but also time-consuming, so make sure you leave time in your schedule for this.\n",
        "\n",
        "**Phase 2:** Next, you should investigate your initial questions, as well as any new questions that arise during your exploration. For each question, create a visualization that might provide a useful answer. Then refine the visualization (by adding additional variables, changing the sort ordering or axis scales, filtering or subsetting data, etc.) to develop better perspectives explore unexpected observations, or sanity check your assumptions. You should repeat this process for each of your questions, and also feel free to revise your questions or branch off to explore new questions as the data warrants."
      ]
    },
    {
      "cell_type": "markdown",
      "metadata": {
        "id": "IUjuPZ9_CUkW"
      },
      "source": [
        "## **Final Deliverable**"
      ]
    },
    {
      "cell_type": "markdown",
      "metadata": {
        "id": "AroFpzSaCXDa"
      },
      "source": [
        "Your final submission should consist of captioned visualizations detailing your most important insights. You will also work on writing and posting a blog to medium or your github website. Your “insights” can include important surprises or issues (such as data quality problems affecting your analysis) as well as responses to your analysis questions.\n",
        "\n",
        "Each visualization image should be a screenshot accompanied with a title and descriptive caption (1-4 sentences long) describing the insight(s) learned from that view. Provide sufficient detail for each caption such that anyone could read through your report and understand what you’ve learned. You are free, but not required, to annotate your images to draw attention to specific features of the data. \n",
        "\n",
        "Do not submit a blog cluttered with everything little thing you tried. Submit a clean report that highlights the most important “milestones” in your exploration, which can include initial overviews, identification of data quality problems, confirmations of key assumptions, and potential “discoveries”. Your blog should only present the final dataset you analyzed and should not describe any iterations on earlier datasets you might have initially explored."
      ]
    },
    {
      "cell_type": "markdown",
      "metadata": {
        "id": "XlvqVKO3CZxv"
      },
      "source": [
        "## **Data Sources**"
      ]
    },
    {
      "cell_type": "markdown",
      "metadata": {
        "id": "3tHXuSJ3CaiO"
      },
      "source": [
        "There are a variety of data sources available online. Here are some possible sources to consider. If you have any questions about whether your dataset is appropriate, please talk to the TAs.\n",
        "\n",
        "**Data is Plural** - Variety of datasets and sources covering many topics.\n",
        "\n",
        "https://data.gov - U.S. Government open datasets.\n",
        "\n",
        "U.S. Census Bureau - Census data - https://data.census.gov/\n",
        "\n",
        "Federal Elections Commission - Campaign finance and expenditures. - https://www.fec.gov/data/\n",
        "\n",
        "Federal Aviation Administration - FAA data - https://www.faa.gov/data_research/\n",
        "\n",
        "https://www.kaggle.com/\n",
        "\n",
        "https://archive.ics.uci.edu/ml/index.php\n",
        "\n",
        "https://github.com/awesomedata/awesome-public-datasets - Awesome Public Datasets - Variety of public datasets.\n",
        "\n",
        "Stanford Cable TV News Analyzer - We have recently released a tool that can be used to analyze who and what appears in the last decade of Cable TV News (i.e. CNN, Fox News, MSNBC). The site lets you download data as well which you could use to conduct further analysis. - https://tvnews.stanford.edu/data"
      ]
    },
    {
      "cell_type": "markdown",
      "metadata": {
        "id": "r1dkn1c9CtjY"
      },
      "source": [
        "### **Visualization Tool (matplotlib, seaborn, etc)**"
      ]
    },
    {
      "cell_type": "markdown",
      "metadata": {
        "id": "HDf8VHW7Cv2l"
      },
      "source": [
        "One goal of this assignment is for you to learn to use and evaluate the effectiveness of these packages. In addition to these packages, you are free to also use other visualization tools as you see fit, for example, you could also take a look at Tableau."
      ]
    },
    {
      "cell_type": "markdown",
      "metadata": {
        "id": "VlUMHuXCCzRa"
      },
      "source": [
        "### **Data Wrangling Tools**"
      ]
    },
    {
      "cell_type": "markdown",
      "metadata": {
        "id": "uPjA2VABC1fA"
      },
      "source": [
        "The data you choose may require reformatting, transformation or cleaning prior to visualization. You can use Pandas for data preparation. "
      ]
    },
    {
      "cell_type": "markdown",
      "metadata": {
        "id": "RG61l1mTC3ju"
      },
      "source": [
        "### **Grading**"
      ]
    },
    {
      "cell_type": "markdown",
      "metadata": {
        "id": "ESbDdwRzC5aM"
      },
      "source": [
        "Each submission will be graded based on both the analysis process and the included visualizations. Here are our grading criteria:\n",
        "\n",
        "**Appropriate Data Assessment (5):** Overview/understanding of the data is built from transformations and appropriate assessment of data quality. Poses clear questions.\n",
        "\n",
        "**Exploration Thoroughness (5):** Sufficient breadth of analysis, exploring questions in sufficient depth (with appropriate follow-up questions).\n",
        "\n",
        "**Documentation (Blog) (5):** Clear documentation of exploratory process, including clearly written, understandable captions that communicate primary insights.\n",
        "\n",
        "**Appropriate use of Numpy, Pandas, and Matplotlib (5)**  to ingest, clean, and present the data"
      ]
    },
    {
      "cell_type": "markdown",
      "metadata": {
        "id": "TJrX_ynfC7Pp"
      },
      "source": [
        "### **Submission Details**"
      ]
    },
    {
      "cell_type": "markdown",
      "metadata": {
        "id": "gM4CysyYC9dA"
      },
      "source": [
        "This is an individual assignment. You may not work in groups. The assignment is due on Sunday (03/07/2021)\n",
        "\n",
        "To submit your assignment, download your notebook and zip all the necessary files(data files). Submit the zipped file to balckboard. Make sure the notebook and the zipped file is named in the format - EDA_LastName_FirstName. Be sure to include the link to access your blog in your notebook.\n",
        "\n",
        "Also include the link to your notebook in the submission. \n",
        "\n",
        "We will provide more details on the blog during the next week of class.\n",
        "\n",
        "**Note** - If the dataset is too large to be zipped and submitted on blackboard, only submit your notebook, add your dataset to your google drive and share a link to the file in your notebook."
      ]
    }
  ]
}